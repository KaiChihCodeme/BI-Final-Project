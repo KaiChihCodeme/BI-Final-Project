{
  "nbformat": 4,
  "nbformat_minor": 0,
  "metadata": {
    "colab": {
      "name": "「BI.ipynb」的副本",
      "provenance": [],
      "collapsed_sections": []
    },
    "kernelspec": {
      "display_name": "Python 3",
      "name": "python3"
    },
    "language_info": {
      "name": "python"
    }
  },
  "cells": [
    {
      "cell_type": "code",
      "metadata": {
        "colab": {
          "base_uri": "https://localhost:8080/",
          "height": 445
        },
        "id": "y3lGXOjPOP-r",
        "outputId": "52b6f381-13fe-4ff8-a28d-b842daa75c61"
      },
      "source": [
        "import pandas as pd\n",
        "import os\n",
        "\n",
        "if (os.path.isfile(\"./Google-Playstore.csv.zip\") == False):\n",
        "    !wget -O Google-Playstore.csv.zip \"http://140.115.82.55:7777/files/Google-Playstore.csv.zip\"\n",
        "    !unzip Google-Playstore.csv.zip\n",
        "\n",
        "BI = pd.read_csv(\"Google-Playstore.csv\")\n",
        "\n",
        "BI.head()"
      ],
      "execution_count": null,
      "outputs": [
        {
          "output_type": "execute_result",
          "data": {
            "text/html": [
              "<div>\n",
              "<style scoped>\n",
              "    .dataframe tbody tr th:only-of-type {\n",
              "        vertical-align: middle;\n",
              "    }\n",
              "\n",
              "    .dataframe tbody tr th {\n",
              "        vertical-align: top;\n",
              "    }\n",
              "\n",
              "    .dataframe thead th {\n",
              "        text-align: right;\n",
              "    }\n",
              "</style>\n",
              "<table border=\"1\" class=\"dataframe\">\n",
              "  <thead>\n",
              "    <tr style=\"text-align: right;\">\n",
              "      <th></th>\n",
              "      <th>App Name</th>\n",
              "      <th>App Id</th>\n",
              "      <th>Category</th>\n",
              "      <th>Rating</th>\n",
              "      <th>Rating Count</th>\n",
              "      <th>Installs</th>\n",
              "      <th>Minimum Installs</th>\n",
              "      <th>Maximum Installs</th>\n",
              "      <th>Free</th>\n",
              "      <th>Price</th>\n",
              "      <th>Currency</th>\n",
              "      <th>Size</th>\n",
              "      <th>Minimum Android</th>\n",
              "      <th>Developer Id</th>\n",
              "      <th>Developer Website</th>\n",
              "      <th>Developer Email</th>\n",
              "      <th>Released</th>\n",
              "      <th>Last Updated</th>\n",
              "      <th>Content Rating</th>\n",
              "      <th>Privacy Policy</th>\n",
              "      <th>Ad Supported</th>\n",
              "      <th>In App Purchases</th>\n",
              "      <th>Editors Choice</th>\n",
              "    </tr>\n",
              "  </thead>\n",
              "  <tbody>\n",
              "    <tr>\n",
              "      <th>0</th>\n",
              "      <td>HTTrack Website Copier</td>\n",
              "      <td>com.httrack.android</td>\n",
              "      <td>Communication</td>\n",
              "      <td>3.6</td>\n",
              "      <td>2848.0</td>\n",
              "      <td>100,000+</td>\n",
              "      <td>100000.0</td>\n",
              "      <td>351560</td>\n",
              "      <td>True</td>\n",
              "      <td>0.0</td>\n",
              "      <td>USD</td>\n",
              "      <td>2.7M</td>\n",
              "      <td>2.3 and up</td>\n",
              "      <td>Xavier Roche</td>\n",
              "      <td>http://www.httrack.com/</td>\n",
              "      <td>roche+android@httrack.com</td>\n",
              "      <td>Aug 12, 2013</td>\n",
              "      <td>May 20, 2017</td>\n",
              "      <td>Everyone</td>\n",
              "      <td>http://android.httrack.com/privacy-policy.html</td>\n",
              "      <td>False</td>\n",
              "      <td>False</td>\n",
              "      <td>False</td>\n",
              "    </tr>\n",
              "    <tr>\n",
              "      <th>1</th>\n",
              "      <td>World War 2: Offline Strategy</td>\n",
              "      <td>com.skizze.wwii</td>\n",
              "      <td>Strategy</td>\n",
              "      <td>4.3</td>\n",
              "      <td>17297.0</td>\n",
              "      <td>1,000,000+</td>\n",
              "      <td>1000000.0</td>\n",
              "      <td>2161778</td>\n",
              "      <td>True</td>\n",
              "      <td>0.0</td>\n",
              "      <td>USD</td>\n",
              "      <td>86M</td>\n",
              "      <td>5.1 and up</td>\n",
              "      <td>Skizze Games</td>\n",
              "      <td>http://stereo7.com/</td>\n",
              "      <td>Skizze.Games@gmail.com</td>\n",
              "      <td>Jul 19, 2018</td>\n",
              "      <td>Nov 26, 2020</td>\n",
              "      <td>Everyone 10+</td>\n",
              "      <td>https://www.iubenda.com/privacy-policy/8032781</td>\n",
              "      <td>True</td>\n",
              "      <td>True</td>\n",
              "      <td>False</td>\n",
              "    </tr>\n",
              "    <tr>\n",
              "      <th>2</th>\n",
              "      <td>WPSApp</td>\n",
              "      <td>com.themausoft.wpsapp</td>\n",
              "      <td>Tools</td>\n",
              "      <td>4.2</td>\n",
              "      <td>488639.0</td>\n",
              "      <td>50,000,000+</td>\n",
              "      <td>50000000.0</td>\n",
              "      <td>79304739</td>\n",
              "      <td>True</td>\n",
              "      <td>0.0</td>\n",
              "      <td>USD</td>\n",
              "      <td>5.8M</td>\n",
              "      <td>4.1 and up</td>\n",
              "      <td>TheMauSoft</td>\n",
              "      <td>http://www.themausoft.com</td>\n",
              "      <td>wpsapp.app@gmail.com</td>\n",
              "      <td>Mar 7, 2016</td>\n",
              "      <td>Oct 21, 2020</td>\n",
              "      <td>Everyone</td>\n",
              "      <td>https://sites.google.com/view/wpsapppolicy/main</td>\n",
              "      <td>True</td>\n",
              "      <td>False</td>\n",
              "      <td>False</td>\n",
              "    </tr>\n",
              "    <tr>\n",
              "      <th>3</th>\n",
              "      <td>OfficeSuite - Office, PDF, Word, Excel, PowerP...</td>\n",
              "      <td>com.mobisystems.office</td>\n",
              "      <td>Business</td>\n",
              "      <td>4.2</td>\n",
              "      <td>1224420.0</td>\n",
              "      <td>100,000,000+</td>\n",
              "      <td>100000000.0</td>\n",
              "      <td>163660067</td>\n",
              "      <td>True</td>\n",
              "      <td>0.0</td>\n",
              "      <td>USD</td>\n",
              "      <td>59M</td>\n",
              "      <td>4.4 and up</td>\n",
              "      <td>MobiSystems</td>\n",
              "      <td>http://www.mobisystems.com</td>\n",
              "      <td>support-officesuite-android@mobisystems.com</td>\n",
              "      <td>Dec 22, 2011</td>\n",
              "      <td>Nov 23, 2020</td>\n",
              "      <td>Everyone</td>\n",
              "      <td>http://www.mobisystems.com/mobile/privacy-poli...</td>\n",
              "      <td>True</td>\n",
              "      <td>True</td>\n",
              "      <td>False</td>\n",
              "    </tr>\n",
              "    <tr>\n",
              "      <th>4</th>\n",
              "      <td>Loud Player Free</td>\n",
              "      <td>com.arthelion.loudplayer</td>\n",
              "      <td>Music &amp; Audio</td>\n",
              "      <td>4.2</td>\n",
              "      <td>665.0</td>\n",
              "      <td>50,000+</td>\n",
              "      <td>50000.0</td>\n",
              "      <td>73463</td>\n",
              "      <td>True</td>\n",
              "      <td>0.0</td>\n",
              "      <td>USD</td>\n",
              "      <td>29M</td>\n",
              "      <td>5.0 and up</td>\n",
              "      <td>Arthelion92</td>\n",
              "      <td>http://www.arthelion.com</td>\n",
              "      <td>arthelion92@gmail.com</td>\n",
              "      <td>Sep 24, 2016</td>\n",
              "      <td>Nov 22, 2020</td>\n",
              "      <td>Everyone</td>\n",
              "      <td>http://www.arthelion.com/index.php/fr/android-...</td>\n",
              "      <td>False</td>\n",
              "      <td>False</td>\n",
              "      <td>False</td>\n",
              "    </tr>\n",
              "  </tbody>\n",
              "</table>\n",
              "</div>"
            ],
            "text/plain": [
              "                                            App Name  ... Editors Choice\n",
              "0                             HTTrack Website Copier  ...          False\n",
              "1                      World War 2: Offline Strategy  ...          False\n",
              "2                                             WPSApp  ...          False\n",
              "3  OfficeSuite - Office, PDF, Word, Excel, PowerP...  ...          False\n",
              "4                                   Loud Player Free  ...          False\n",
              "\n",
              "[5 rows x 23 columns]"
            ]
          },
          "metadata": {
            "tags": []
          },
          "execution_count": 1
        }
      ]
    },
    {
      "cell_type": "code",
      "metadata": {
        "id": "rJfYWNDiUK29"
      },
      "source": [
        "import numpy as np\n",
        "app_name = np.array(BI['App Name'])\n",
        "app_id = np.array(BI['App Id'])\n",
        "app_category = np.array(BI['Category'])\n",
        "app_rating = np.array(BI['Rating'])\n",
        "app_rating_count = np.array(BI['Rating Count'])\n",
        "app_min_install = np.array(BI['Minimum Installs'])\n",
        "app_price = np.array(BI['Price'])\n",
        "app_ad = np.array(BI['Ad Supported'])"
      ],
      "execution_count": null,
      "outputs": []
    },
    {
      "cell_type": "code",
      "metadata": {
        "colab": {
          "base_uri": "https://localhost:8080/"
        },
        "id": "UkXQNhIVVkOx",
        "outputId": "472a9521-6e2e-4dff-f3f2-575470505c05"
      },
      "source": [
        "print(BI.nunique())"
      ],
      "execution_count": null,
      "outputs": [
        {
          "output_type": "stream",
          "text": [
            "App Name             1046869\n",
            "App Id               1118136\n",
            "Category                  48\n",
            "Rating                    42\n",
            "Rating Count           34996\n",
            "Installs                  22\n",
            "Minimum Installs          22\n",
            "Maximum Installs      207348\n",
            "Free                       2\n",
            "Price                    705\n",
            "Currency                  54\n",
            "Size                    1482\n",
            "Minimum Android          139\n",
            "Developer Id          165593\n",
            "Developer Website     256899\n",
            "Developer Email       261786\n",
            "Released                3963\n",
            "Last Updated            3706\n",
            "Content Rating             6\n",
            "Privacy Policy        380030\n",
            "Ad Supported               2\n",
            "In App Purchases           2\n",
            "Editors Choice             2\n",
            "dtype: int64\n"
          ],
          "name": "stdout"
        }
      ]
    },
    {
      "cell_type": "code",
      "metadata": {
        "colab": {
          "base_uri": "https://localhost:8080/"
        },
        "id": "OQwUdOsIZIxP",
        "outputId": "679dc10c-2851-41e7-e843-a76800dbee5b"
      },
      "source": [
        "print(BI['Rating'].isna().any())\n",
        "print(BI.isna().sum())\n",
        "print(BI['Rating'].mean(axis=0,skipna=True))"
      ],
      "execution_count": null,
      "outputs": [
        {
          "output_type": "stream",
          "text": [
            "True\n",
            "App Name                  1\n",
            "App Id                    0\n",
            "Category                  3\n",
            "Rating                 6850\n",
            "Rating Count           6850\n",
            "Installs                161\n",
            "Minimum Installs        161\n",
            "Maximum Installs          0\n",
            "Free                      0\n",
            "Price                     0\n",
            "Currency                161\n",
            "Size                      0\n",
            "Minimum Android        2013\n",
            "Developer Id              2\n",
            "Developer Website    414366\n",
            "Developer Email          22\n",
            "Released               7730\n",
            "Last Updated              0\n",
            "Content Rating            0\n",
            "Privacy Policy       153524\n",
            "Ad Supported              0\n",
            "In App Purchases          0\n",
            "Editors Choice            0\n",
            "dtype: int64\n",
            "2.490334441358455\n"
          ],
          "name": "stdout"
        }
      ]
    },
    {
      "cell_type": "code",
      "metadata": {
        "colab": {
          "base_uri": "https://localhost:8080/"
        },
        "id": "2ziEUZCHgEZl",
        "outputId": "acb1f047-e073-472f-8f71-668a6859e012"
      },
      "source": [
        "pd.set_option('display.max_columns', None)\n",
        "print(BI.loc[BI['App Name']=='Shopping List Pro'])"
      ],
      "execution_count": null,
      "outputs": [
        {
          "output_type": "stream",
          "text": [
            "                 App Name                       App Id  Category  Rating  \\\n",
            "266884  Shopping List Pro        hk.eu.shoppinglistpro  Shopping     0.0   \n",
            "267198  Shopping List Pro  com.technix.shoppinglistpro  Shopping     4.3   \n",
            "871150  Shopping List Pro           com.msamil.grocery  Shopping     4.2   \n",
            "\n",
            "        Rating Count Installs  Minimum Installs  Maximum Installs   Free  \\\n",
            "266884           0.0       1+               1.0                 4  False   \n",
            "267198         119.0   5,000+            5000.0              5189   True   \n",
            "871150           5.0      10+              10.0                16   True   \n",
            "\n",
            "        Price Currency  Size Minimum Android  \\\n",
            "266884   9.99      USD  2.3M      5.0 and up   \n",
            "267198   0.00      USD  3.8M      4.2 and up   \n",
            "871150   0.00      USD  3.5M      4.4 and up   \n",
            "\n",
            "                             Developer Id              Developer Website  \\\n",
            "266884                      Harpreet Kaur  https://harpreetkaurapps.com/   \n",
            "267198  Technix India Solutions Pvt. Ltd.    http://www.technixindia.com   \n",
            "871150                         Studio MSA                            NaN   \n",
            "\n",
            "                    Developer Email      Released  Last Updated  \\\n",
            "266884  harpreetkaur.apps@gmail.com  Jun 11, 2019  Aug 03, 2020   \n",
            "267198     android@technixindia.com  Dec 12, 2018  Dec 12, 2018   \n",
            "871150          studi.msa@gmail.com  Mar 31, 2020  Apr 02, 2020   \n",
            "\n",
            "       Content Rating                                     Privacy Policy  \\\n",
            "266884       Everyone                                                NaN   \n",
            "267198       Everyone  http://www.technixindia.com/apps/legal/shoppin...   \n",
            "871150       Everyone  https://drive.google.com/file/d/1Fte6Dt-gPBC2O...   \n",
            "\n",
            "        Ad Supported  In App Purchases  Editors Choice  \n",
            "266884         False             False           False  \n",
            "267198         False             False           False  \n",
            "871150          True             False           False  \n"
          ],
          "name": "stdout"
        }
      ]
    },
    {
      "cell_type": "code",
      "metadata": {
        "colab": {
          "base_uri": "https://localhost:8080/"
        },
        "id": "nI2Bx0GwWFos",
        "outputId": "b595454a-a73c-4f25-db0a-6fe9c361d4c9"
      },
      "source": [
        "print(BI['Price'])\n",
        "print(BI)\n",
        "print(app_price)"
      ],
      "execution_count": null,
      "outputs": [
        {
          "output_type": "stream",
          "text": [
            "0          0.0\n",
            "1          0.0\n",
            "2          0.0\n",
            "3          0.0\n",
            "4          0.0\n",
            "          ... \n",
            "1118131    0.0\n",
            "1118132    0.0\n",
            "1118133    0.0\n",
            "1118134    0.0\n",
            "1118135    0.0\n",
            "Name: Price, Length: 1118136, dtype: float64\n",
            "                                                  App Name  ... Editors Choice\n",
            "0                                   HTTrack Website Copier  ...          False\n",
            "1                            World War 2: Offline Strategy  ...          False\n",
            "2                                                   WPSApp  ...          False\n",
            "3        OfficeSuite - Office, PDF, Word, Excel, PowerP...  ...          False\n",
            "4                                         Loud Player Free  ...          False\n",
            "...                                                    ...  ...            ...\n",
            "1118131                                        FleetEnable  ...          False\n",
            "1118132                                          AutoThink  ...          False\n",
            "1118133                                        FieldEnable  ...          False\n",
            "1118134                                       Live Concert  ...          False\n",
            "1118135                                       Rajput India  ...          False\n",
            "\n",
            "[1118136 rows x 23 columns]\n",
            "[0. 0. 0. ... 0. 0. 0.]\n"
          ],
          "name": "stdout"
        }
      ]
    },
    {
      "cell_type": "code",
      "metadata": {
        "colab": {
          "base_uri": "https://localhost:8080/"
        },
        "id": "-BpFm1pRXItT",
        "outputId": "dc968adf-8725-4ef1-fa31-393a971e7683"
      },
      "source": [
        "print(BI['Price'].all())\n",
        "print(BI['Price'].isna().any())\n",
        "print(BI['App Name'].isna().any()) # have na\n",
        "print(BI['App Id'].isna().any())\n",
        "print(BI['Category'].isna().any()) # have na\n",
        "print(BI['Rating'].isna().any()) # have na\n",
        "print(BI['Rating Count'].isna().any()) # have na\n",
        "print(BI['Maximum Installs'].isna().any())\n",
        "print(BI['Ad Supported'].isna().any())"
      ],
      "execution_count": null,
      "outputs": [
        {
          "output_type": "stream",
          "text": [
            "False\n",
            "False\n",
            "True\n",
            "False\n",
            "True\n",
            "False\n",
            "True\n",
            "False\n",
            "False\n"
          ],
          "name": "stdout"
        }
      ]
    },
    {
      "cell_type": "code",
      "metadata": {
        "colab": {
          "base_uri": "https://localhost:8080/",
          "height": 393
        },
        "id": "cVsIykx_BB_U",
        "outputId": "c4615de0-7862-4634-ebd5-c380f45e7d7d"
      },
      "source": [
        "# Modeling 1\n",
        "# LR download rating\n",
        "import sklearn\n",
        "import matplotlib.pyplot as plt\n",
        "BI['Rating']=BI['Rating'].fillna(0) #填補空值\n",
        "mask = BI['Maximum Installs'] > 1000000\n",
        "BI_dt = BI[mask]\n",
        "print('篩選前為%s筆, 篩選後為%s筆, 共篩選掉%s' % (BI.shape, BI_dt.shape, BI.shape[0]-BI_dt.shape[0]))\n",
        "\n",
        "X = BI_dt['Maximum Installs'].values.astype(int).reshape(-1,1)\n",
        "y = BI_dt['Rating'].values.astype(int).reshape(-1,1)\n",
        "from sklearn.linear_model import LogisticRegression\n",
        "clf = LogisticRegression(random_state=0).fit(X,y)\n",
        "print(\"score:\", clf.score(X, y))\n",
        "\n",
        "plt.scatter(X,y,s=100)\n",
        "plt.xlabel('Installs', fontsize=20)\n",
        "plt.ylabel('Rating', fontsize=20)"
      ],
      "execution_count": null,
      "outputs": [
        {
          "output_type": "stream",
          "text": [
            "篩選前為(1118136, 23)筆, 篩選後為(38976, 23)筆, 共篩選掉1079160\n"
          ],
          "name": "stdout"
        },
        {
          "output_type": "stream",
          "text": [
            "/usr/local/lib/python3.7/dist-packages/sklearn/utils/validation.py:760: DataConversionWarning: A column-vector y was passed when a 1d array was expected. Please change the shape of y to (n_samples, ), for example using ravel().\n",
            "  y = column_or_1d(y, warn=True)\n"
          ],
          "name": "stderr"
        },
        {
          "output_type": "stream",
          "text": [
            "score: 0.7024066091954023\n"
          ],
          "name": "stdout"
        },
        {
          "output_type": "execute_result",
          "data": {
            "text/plain": [
              "Text(0, 0.5, 'Rating')"
            ]
          },
          "metadata": {
            "tags": []
          },
          "execution_count": 18
        },
        {
          "output_type": "display_data",
          "data": {
            "image/png": "[encoded data removed]",
            "text/plain": [
              "<Figure size 432x288 with 1 Axes>"
            ]
          },
          "metadata": {
            "tags": [],
            "needs_background": "light"
          }
        }
      ]
    },
    {
      "cell_type": "code",
      "metadata": {
        "colab": {
          "base_uri": "https://localhost:8080/",
          "height": 1000
        },
        "id": "tImEvV2JGq4G",
        "outputId": "0d50e94d-aad2-4eba-fdd7-aa66f8873fea"
      },
      "source": [
        "# Modeling 2\n",
        "# free, ad, in app perchase to download (DT)\n",
        "from sklearn import tree\n",
        "\n",
        "mask = BI['Maximum Installs'] > 1000000\n",
        "BI_dt = BI[mask]\n",
        "print('篩選前為%s筆, 篩選後為%s筆, 共篩選掉%s' % (BI.shape, BI_dt.shape, BI.shape[0]-BI_dt.shape[0]))\n",
        "\n",
        "gx = BI_dt.iloc[:, [8,20,21]]\n",
        "print(gx)\n",
        "\n",
        "x = gx\n",
        "y = BI_dt[\"Maximum Installs\"].values.astype('int')\n",
        "\n",
        "classifier = tree.DecisionTreeClassifier()\n",
        "classifier = classifier.fit(x,y)\n",
        "\n",
        "plt.figure(figsize=(20,20))\n",
        "tree.plot_tree(classifier)\n",
        "plt.show()\n",
        "\n",
        "print(tree.export_text(classifier))\n",
        "\n",
        "import graphviz\n",
        "\n",
        "dot_data = tree.export_graphviz(classifier, out_file=None,\n",
        "                                feature_names=['Free','AD Support','In App Purchased'],\n",
        "                                class_names=BI_dt[\"Maximum Installs\"].values.astype('str'),\n",
        "                                rounded = True, filled=True)\n",
        "\n",
        "graph = graphviz.Source(dot_data)\n",
        "\n",
        "graph"
      ],
      "execution_count": null,
      "outputs": [
        {
          "output_type": "stream",
          "text": [
            "篩選前為(1118136, 23)筆, 篩選後為(38976, 23)筆, 共篩選掉1079160\n",
            "         Free  Ad Supported  In App Purchases\n",
            "1        True          True              True\n",
            "2        True          True             False\n",
            "3        True          True              True\n",
            "7        True          True              True\n",
            "8        True          True              True\n",
            "...       ...           ...               ...\n",
            "1117462  True         False             False\n",
            "1117741  True          True             False\n",
            "1117995  True          True              True\n",
            "1117997  True          True             False\n",
            "1118103  True          True             False\n",
            "\n",
            "[38976 rows x 3 columns]\n"
          ],
          "name": "stdout"
        },
        {
          "output_type": "display_data",
          "data": {
            "image/png": "[encoded data removed]",
            "text/plain": [
              "<Figure size 1440x1440 with 1 Axes>"
            ]
          },
          "metadata": {
            "tags": [],
            "needs_background": "light"
          }
        },
        {
          "output_type": "stream",
          "text": [
            "|--- feature_1 <= 0.50\n",
            "|   |--- feature_0 <= 0.50\n",
            "|   |   |--- feature_2 <= 0.50\n",
            "|   |   |   |--- class: 1008583\n",
            "|   |   |--- feature_2 >  0.50\n",
            "|   |   |   |--- class: 1031196\n",
            "|   |--- feature_0 >  0.50\n",
            "|   |   |--- feature_2 <= 0.50\n",
            "|   |   |   |--- class: 1118145\n",
            "|   |   |--- feature_2 >  0.50\n",
            "|   |   |   |--- class: 1000016\n",
            "|--- feature_1 >  0.50\n",
            "|   |--- feature_0 <= 0.50\n",
            "|   |   |--- feature_2 <= 0.50\n",
            "|   |   |   |--- class: 1192843\n",
            "|   |   |--- feature_2 >  0.50\n",
            "|   |   |   |--- class: 1086669\n",
            "|   |--- feature_0 >  0.50\n",
            "|   |   |--- feature_2 <= 0.50\n",
            "|   |   |   |--- class: 1000016\n",
            "|   |   |--- feature_2 >  0.50\n",
            "|   |   |   |--- class: 1000041\n",
            "\n"
          ],
          "name": "stdout"
        },
        {
          "output_type": "execute_result",
          "data": {
            "text/plain": [
              "<graphviz.files.Source at 0x7f1f26f53250>"
            ],
            "image/svg+xml": "<?xml version=\"1.0\" encoding=\"UTF-8\" standalone=\"no\"?>\n<!DOCTYPE svg PUBLIC \"-//W3C//DTD SVG 1.1//EN\"\n \"http://www.w3.org/Graphics/SVG/1.1/DTD/svg11.dtd\">\n<!-- Generated by graphviz version 2.40.1 (20161225.0304)\n -->\n<!-- Title: Tree Pages: 1 -->\n<svg width=\"1518pt\" height=\"433pt\"\n viewBox=\"0.00 0.00 1518.00 433.00\" xmlns=\"http://www.w3.org/2000/svg\" xmlns:xlink=\"http://www.w3.org/1999/xlink\">\n<g id=\"graph0\" class=\"graph\" transform=\"scale(1 1) rotate(0) translate(4 429)\">\n<title>Tree</title>\n<polygon fill=\"#ffffff\" stroke=\"transparent\" points=\"-4,4 -4,-429 1514,-429 1514,4 -4,4\"/>\n<!-- 0 -->\n<g id=\"node1\" class=\"node\">\n<title>0</title>\n<path fill=\"#ffffff\" stroke=\"#000000\" d=\"M783,-425C783,-425 634,-425 634,-425 628,-425 622,-419 622,-413 622,-413 622,-354 622,-354 622,-348 628,-342 634,-342 634,-342 783,-342 783,-342 789,-342 795,-348 795,-354 795,-354 795,-413 795,-413 795,-419 789,-425 783,-425\"/>\n<text text-anchor=\"middle\" x=\"708.5\" y=\"-409.8\" font-family=\"Helvetica,sans-Serif\" font-size=\"14.00\" fill=\"#000000\">AD Support &lt;= 0.5</text>\n<text text-anchor=\"middle\" x=\"708.5\" y=\"-394.8\" font-family=\"Helvetica,sans-Serif\" font-size=\"14.00\" fill=\"#000000\">gini = 1.0</text>\n<text text-anchor=\"middle\" x=\"708.5\" y=\"-379.8\" font-family=\"Helvetica,sans-Serif\" font-size=\"14.00\" fill=\"#000000\">samples = 38976</text>\n<text text-anchor=\"middle\" x=\"708.5\" y=\"-364.8\" font-family=\"Helvetica,sans-Serif\" font-size=\"14.00\" fill=\"#000000\">value = [1, 1, 1 ... 1, 1, 1]</text>\n<text text-anchor=\"middle\" x=\"708.5\" y=\"-349.8\" font-family=\"Helvetica,sans-Serif\" font-size=\"14.00\" fill=\"#000000\">class = 681961526</text>\n</g>\n<!-- 1 -->\n<g id=\"node2\" class=\"node\">\n<title>1</title>\n<path fill=\"#ffffff\" stroke=\"#000000\" d=\"M686,-306C686,-306 537,-306 537,-306 531,-306 525,-300 525,-294 525,-294 525,-235 525,-235 525,-229 531,-223 537,-223 537,-223 686,-223 686,-223 692,-223 698,-229 698,-235 698,-235 698,-294 698,-294 698,-300 692,-306 686,-306\"/>\n<text text-anchor=\"middle\" x=\"611.5\" y=\"-290.8\" font-family=\"Helvetica,sans-Serif\" font-size=\"14.00\" fill=\"#000000\">Free &lt;= 0.5</text>\n<text text-anchor=\"middle\" x=\"611.5\" y=\"-275.8\" font-family=\"Helvetica,sans-Serif\" font-size=\"14.00\" fill=\"#000000\">gini = 1.0</text>\n<text text-anchor=\"middle\" x=\"611.5\" y=\"-260.8\" font-family=\"Helvetica,sans-Serif\" font-size=\"14.00\" fill=\"#000000\">samples = 7996</text>\n<text text-anchor=\"middle\" x=\"611.5\" y=\"-245.8\" font-family=\"Helvetica,sans-Serif\" font-size=\"14.00\" fill=\"#000000\">value = [1, 0, 1 ... 0, 0, 1]</text>\n<text text-anchor=\"middle\" x=\"611.5\" y=\"-230.8\" font-family=\"Helvetica,sans-Serif\" font-size=\"14.00\" fill=\"#000000\">class = 104740945</text>\n</g>\n<!-- 0&#45;&gt;1 -->\n<g id=\"edge1\" class=\"edge\">\n<title>0&#45;&gt;1</title>\n<path fill=\"none\" stroke=\"#000000\" d=\"M674.5741,-341.8796C667.3062,-332.9633 659.557,-323.4565 652.0672,-314.268\"/>\n<polygon fill=\"#000000\" stroke=\"#000000\" points=\"654.6018,-311.8379 645.5707,-306.2981 649.176,-316.2606 654.6018,-311.8379\"/>\n<text text-anchor=\"middle\" x=\"643.0375\" y=\"-327.4694\" font-family=\"Helvetica,sans-Serif\" font-size=\"14.00\" fill=\"#000000\">True</text>\n</g>\n<!-- 8 -->\n<g id=\"node9\" class=\"node\">\n<title>8</title>\n<path fill=\"#ffffff\" stroke=\"#000000\" d=\"M972,-306C972,-306 823,-306 823,-306 817,-306 811,-300 811,-294 811,-294 811,-235 811,-235 811,-229 817,-223 823,-223 823,-223 972,-223 972,-223 978,-223 984,-229 984,-235 984,-235 984,-294 984,-294 984,-300 978,-306 972,-306\"/>\n<text text-anchor=\"middle\" x=\"897.5\" y=\"-290.8\" font-family=\"Helvetica,sans-Serif\" font-size=\"14.00\" fill=\"#000000\">Free &lt;= 0.5</text>\n<text text-anchor=\"middle\" x=\"897.5\" y=\"-275.8\" font-family=\"Helvetica,sans-Serif\" font-size=\"14.00\" fill=\"#000000\">gini = 1.0</text>\n<text text-anchor=\"middle\" x=\"897.5\" y=\"-260.8\" font-family=\"Helvetica,sans-Serif\" font-size=\"14.00\" fill=\"#000000\">samples = 30980</text>\n<text text-anchor=\"middle\" x=\"897.5\" y=\"-245.8\" font-family=\"Helvetica,sans-Serif\" font-size=\"14.00\" fill=\"#000000\">value = [0, 1, 0 ... 1, 1, 0]</text>\n<text text-anchor=\"middle\" x=\"897.5\" y=\"-230.8\" font-family=\"Helvetica,sans-Serif\" font-size=\"14.00\" fill=\"#000000\">class = 681961526</text>\n</g>\n<!-- 0&#45;&gt;8 -->\n<g id=\"edge8\" class=\"edge\">\n<title>0&#45;&gt;8</title>\n<path fill=\"none\" stroke=\"#000000\" d=\"M774.603,-341.8796C790.1413,-332.0962 806.8088,-321.6019 822.6987,-311.5971\"/>\n<polygon fill=\"#000000\" stroke=\"#000000\" points=\"824.8368,-314.3869 831.4343,-306.0969 821.1071,-308.4633 824.8368,-314.3869\"/>\n<text text-anchor=\"middle\" x=\"825.8938\" y=\"-326.7752\" font-family=\"Helvetica,sans-Serif\" font-size=\"14.00\" fill=\"#000000\">False</text>\n</g>\n<!-- 2 -->\n<g id=\"node3\" class=\"node\">\n<title>2</title>\n<path fill=\"#ffffff\" stroke=\"#000000\" d=\"M353.5,-187C353.5,-187 201.5,-187 201.5,-187 195.5,-187 189.5,-181 189.5,-175 189.5,-175 189.5,-116 189.5,-116 189.5,-110 195.5,-104 201.5,-104 201.5,-104 353.5,-104 353.5,-104 359.5,-104 365.5,-110 365.5,-116 365.5,-116 365.5,-175 365.5,-175 365.5,-181 359.5,-187 353.5,-187\"/>\n<text text-anchor=\"middle\" x=\"277.5\" y=\"-171.8\" font-family=\"Helvetica,sans-Serif\" font-size=\"14.00\" fill=\"#000000\">In App Purchased &lt;= 0.5</text>\n<text text-anchor=\"middle\" x=\"277.5\" y=\"-156.8\" font-family=\"Helvetica,sans-Serif\" font-size=\"14.00\" fill=\"#000000\">gini = 0.985</text>\n<text text-anchor=\"middle\" x=\"277.5\" y=\"-141.8\" font-family=\"Helvetica,sans-Serif\" font-size=\"14.00\" fill=\"#000000\">samples = 65</text>\n<text text-anchor=\"middle\" x=\"277.5\" y=\"-126.8\" font-family=\"Helvetica,sans-Serif\" font-size=\"14.00\" fill=\"#000000\">value = [0, 0, 0 ... 0, 0, 0]</text>\n<text text-anchor=\"middle\" x=\"277.5\" y=\"-111.8\" font-family=\"Helvetica,sans-Serif\" font-size=\"14.00\" fill=\"#000000\">class = 9034611</text>\n</g>\n<!-- 1&#45;&gt;2 -->\n<g id=\"edge2\" class=\"edge\">\n<title>1&#45;&gt;2</title>\n<path fill=\"none\" stroke=\"#000000\" d=\"M524.6173,-233.5448C478.8677,-217.2448 422.6051,-197.1991 375.3269,-180.3545\"/>\n<polygon fill=\"#000000\" stroke=\"#000000\" points=\"376.2844,-176.9802 365.6898,-176.9209 373.935,-183.5742 376.2844,-176.9802\"/>\n</g>\n<!-- 5 -->\n<g id=\"node6\" class=\"node\">\n<title>5</title>\n<path fill=\"#ffffff\" stroke=\"#000000\" d=\"M687.5,-187C687.5,-187 535.5,-187 535.5,-187 529.5,-187 523.5,-181 523.5,-175 523.5,-175 523.5,-116 523.5,-116 523.5,-110 529.5,-104 535.5,-104 535.5,-104 687.5,-104 687.5,-104 693.5,-104 699.5,-110 699.5,-116 699.5,-116 699.5,-175 699.5,-175 699.5,-181 693.5,-187 687.5,-187\"/>\n<text text-anchor=\"middle\" x=\"611.5\" y=\"-171.8\" font-family=\"Helvetica,sans-Serif\" font-size=\"14.00\" fill=\"#000000\">In App Purchased &lt;= 0.5</text>\n<text text-anchor=\"middle\" x=\"611.5\" y=\"-156.8\" font-family=\"Helvetica,sans-Serif\" font-size=\"14.00\" fill=\"#000000\">gini = 1.0</text>\n<text text-anchor=\"middle\" x=\"611.5\" y=\"-141.8\" font-family=\"Helvetica,sans-Serif\" font-size=\"14.00\" fill=\"#000000\">samples = 7931</text>\n<text text-anchor=\"middle\" x=\"611.5\" y=\"-126.8\" font-family=\"Helvetica,sans-Serif\" font-size=\"14.00\" fill=\"#000000\">value = [1, 0, 1 ... 0, 0, 1]</text>\n<text text-anchor=\"middle\" x=\"611.5\" y=\"-111.8\" font-family=\"Helvetica,sans-Serif\" font-size=\"14.00\" fill=\"#000000\">class = 104740945</text>\n</g>\n<!-- 1&#45;&gt;5 -->\n<g id=\"edge5\" class=\"edge\">\n<title>1&#45;&gt;5</title>\n<path fill=\"none\" stroke=\"#000000\" d=\"M611.5,-222.8796C611.5,-214.6838 611.5,-205.9891 611.5,-197.5013\"/>\n<polygon fill=\"#000000\" stroke=\"#000000\" points=\"615.0001,-197.298 611.5,-187.2981 608.0001,-197.2981 615.0001,-197.298\"/>\n</g>\n<!-- 3 -->\n<g id=\"node4\" class=\"node\">\n<title>3</title>\n<path fill=\"#ffffff\" stroke=\"#000000\" d=\"M161,-68C161,-68 12,-68 12,-68 6,-68 0,-62 0,-56 0,-56 0,-12 0,-12 0,-6 6,0 12,0 12,0 161,0 161,0 167,0 173,-6 173,-12 173,-12 173,-56 173,-56 173,-62 167,-68 161,-68\"/>\n<text text-anchor=\"middle\" x=\"86.5\" y=\"-52.8\" font-family=\"Helvetica,sans-Serif\" font-size=\"14.00\" fill=\"#000000\">gini = 0.972</text>\n<text text-anchor=\"middle\" x=\"86.5\" y=\"-37.8\" font-family=\"Helvetica,sans-Serif\" font-size=\"14.00\" fill=\"#000000\">samples = 36</text>\n<text text-anchor=\"middle\" x=\"86.5\" y=\"-22.8\" font-family=\"Helvetica,sans-Serif\" font-size=\"14.00\" fill=\"#000000\">value = [0, 0, 0 ... 0, 0, 0]</text>\n<text text-anchor=\"middle\" x=\"86.5\" y=\"-7.8\" font-family=\"Helvetica,sans-Serif\" font-size=\"14.00\" fill=\"#000000\">class = 9034611</text>\n</g>\n<!-- 2&#45;&gt;3 -->\n<g id=\"edge3\" class=\"edge\">\n<title>2&#45;&gt;3</title>\n<path fill=\"none\" stroke=\"#000000\" d=\"M206.3786,-103.9815C189.1277,-93.911 170.7395,-83.1764 153.6773,-73.2161\"/>\n<polygon fill=\"#000000\" stroke=\"#000000\" points=\"155.2895,-70.1045 144.8888,-68.0856 151.7604,-76.1499 155.2895,-70.1045\"/>\n</g>\n<!-- 4 -->\n<g id=\"node5\" class=\"node\">\n<title>4</title>\n<path fill=\"#ffffff\" stroke=\"#000000\" d=\"M352,-68C352,-68 203,-68 203,-68 197,-68 191,-62 191,-56 191,-56 191,-12 191,-12 191,-6 197,0 203,0 203,0 352,0 352,0 358,0 364,-6 364,-12 364,-12 364,-56 364,-56 364,-62 358,-68 352,-68\"/>\n<text text-anchor=\"middle\" x=\"277.5\" y=\"-52.8\" font-family=\"Helvetica,sans-Serif\" font-size=\"14.00\" fill=\"#000000\">gini = 0.966</text>\n<text text-anchor=\"middle\" x=\"277.5\" y=\"-37.8\" font-family=\"Helvetica,sans-Serif\" font-size=\"14.00\" fill=\"#000000\">samples = 29</text>\n<text text-anchor=\"middle\" x=\"277.5\" y=\"-22.8\" font-family=\"Helvetica,sans-Serif\" font-size=\"14.00\" fill=\"#000000\">value = [0, 0, 0 ... 0, 0, 0]</text>\n<text text-anchor=\"middle\" x=\"277.5\" y=\"-7.8\" font-family=\"Helvetica,sans-Serif\" font-size=\"14.00\" fill=\"#000000\">class = 2844357</text>\n</g>\n<!-- 2&#45;&gt;4 -->\n<g id=\"edge4\" class=\"edge\">\n<title>2&#45;&gt;4</title>\n<path fill=\"none\" stroke=\"#000000\" d=\"M277.5,-103.9815C277.5,-95.618 277.5,-86.7965 277.5,-78.3409\"/>\n<polygon fill=\"#000000\" stroke=\"#000000\" points=\"281.0001,-78.2636 277.5,-68.2637 274.0001,-78.2637 281.0001,-78.2636\"/>\n</g>\n<!-- 6 -->\n<g id=\"node7\" class=\"node\">\n<title>6</title>\n<path fill=\"#ffffff\" stroke=\"#000000\" d=\"M543,-68C543,-68 394,-68 394,-68 388,-68 382,-62 382,-56 382,-56 382,-12 382,-12 382,-6 388,0 394,0 394,0 543,0 543,0 549,0 555,-6 555,-12 555,-12 555,-56 555,-56 555,-62 549,-68 543,-68\"/>\n<text text-anchor=\"middle\" x=\"468.5\" y=\"-52.8\" font-family=\"Helvetica,sans-Serif\" font-size=\"14.00\" fill=\"#000000\">gini = 1.0</text>\n<text text-anchor=\"middle\" x=\"468.5\" y=\"-37.8\" font-family=\"Helvetica,sans-Serif\" font-size=\"14.00\" fill=\"#000000\">samples = 5483</text>\n<text text-anchor=\"middle\" x=\"468.5\" y=\"-22.8\" font-family=\"Helvetica,sans-Serif\" font-size=\"14.00\" fill=\"#000000\">value = [1, 0, 1 ... 0, 0, 1]</text>\n<text text-anchor=\"middle\" x=\"468.5\" y=\"-7.8\" font-family=\"Helvetica,sans-Serif\" font-size=\"14.00\" fill=\"#000000\">class = 1895116</text>\n</g>\n<!-- 5&#45;&gt;6 -->\n<g id=\"edge6\" class=\"edge\">\n<title>5&#45;&gt;6</title>\n<path fill=\"none\" stroke=\"#000000\" d=\"M558.2521,-103.9815C545.8756,-94.3313 532.7172,-84.0714 520.3997,-74.4673\"/>\n<polygon fill=\"#000000\" stroke=\"#000000\" points=\"522.4818,-71.6525 512.4435,-68.2637 518.1775,-77.1728 522.4818,-71.6525\"/>\n</g>\n<!-- 7 -->\n<g id=\"node8\" class=\"node\">\n<title>7</title>\n<path fill=\"#ffffff\" stroke=\"#000000\" d=\"M734,-68C734,-68 585,-68 585,-68 579,-68 573,-62 573,-56 573,-56 573,-12 573,-12 573,-6 579,0 585,0 585,0 734,0 734,0 740,0 746,-6 746,-12 746,-12 746,-56 746,-56 746,-62 740,-68 734,-68\"/>\n<text text-anchor=\"middle\" x=\"659.5\" y=\"-52.8\" font-family=\"Helvetica,sans-Serif\" font-size=\"14.00\" fill=\"#000000\">gini = 1.0</text>\n<text text-anchor=\"middle\" x=\"659.5\" y=\"-37.8\" font-family=\"Helvetica,sans-Serif\" font-size=\"14.00\" fill=\"#000000\">samples = 2448</text>\n<text text-anchor=\"middle\" x=\"659.5\" y=\"-22.8\" font-family=\"Helvetica,sans-Serif\" font-size=\"14.00\" fill=\"#000000\">value = [0, 0, 0 ... 0, 0, 0]</text>\n<text text-anchor=\"middle\" x=\"659.5\" y=\"-7.8\" font-family=\"Helvetica,sans-Serif\" font-size=\"14.00\" fill=\"#000000\">class = 681961526</text>\n</g>\n<!-- 5&#45;&gt;7 -->\n<g id=\"edge7\" class=\"edge\">\n<title>5&#45;&gt;7</title>\n<path fill=\"none\" stroke=\"#000000\" d=\"M629.3734,-103.9815C633.0926,-95.3423 637.022,-86.2144 640.771,-77.5059\"/>\n<polygon fill=\"#000000\" stroke=\"#000000\" points=\"644.0103,-78.8327 644.7497,-68.2637 637.5808,-76.0648 644.0103,-78.8327\"/>\n</g>\n<!-- 9 -->\n<g id=\"node10\" class=\"node\">\n<title>9</title>\n<path fill=\"#ffffff\" stroke=\"#000000\" d=\"M973.5,-187C973.5,-187 821.5,-187 821.5,-187 815.5,-187 809.5,-181 809.5,-175 809.5,-175 809.5,-116 809.5,-116 809.5,-110 815.5,-104 821.5,-104 821.5,-104 973.5,-104 973.5,-104 979.5,-104 985.5,-110 985.5,-116 985.5,-116 985.5,-175 985.5,-175 985.5,-181 979.5,-187 973.5,-187\"/>\n<text text-anchor=\"middle\" x=\"897.5\" y=\"-171.8\" font-family=\"Helvetica,sans-Serif\" font-size=\"14.00\" fill=\"#000000\">In App Purchased &lt;= 0.5</text>\n<text text-anchor=\"middle\" x=\"897.5\" y=\"-156.8\" font-family=\"Helvetica,sans-Serif\" font-size=\"14.00\" fill=\"#000000\">gini = 0.964</text>\n<text text-anchor=\"middle\" x=\"897.5\" y=\"-141.8\" font-family=\"Helvetica,sans-Serif\" font-size=\"14.00\" fill=\"#000000\">samples = 28</text>\n<text text-anchor=\"middle\" x=\"897.5\" y=\"-126.8\" font-family=\"Helvetica,sans-Serif\" font-size=\"14.00\" fill=\"#000000\">value = [0, 0, 0 ... 0, 0, 0]</text>\n<text text-anchor=\"middle\" x=\"897.5\" y=\"-111.8\" font-family=\"Helvetica,sans-Serif\" font-size=\"14.00\" fill=\"#000000\">class = 11353201</text>\n</g>\n<!-- 8&#45;&gt;9 -->\n<g id=\"edge9\" class=\"edge\">\n<title>8&#45;&gt;9</title>\n<path fill=\"none\" stroke=\"#000000\" d=\"M897.5,-222.8796C897.5,-214.6838 897.5,-205.9891 897.5,-197.5013\"/>\n<polygon fill=\"#000000\" stroke=\"#000000\" points=\"901.0001,-197.298 897.5,-187.2981 894.0001,-197.2981 901.0001,-197.298\"/>\n</g>\n<!-- 12 -->\n<g id=\"node13\" class=\"node\">\n<title>12</title>\n<path fill=\"#ffffff\" stroke=\"#000000\" d=\"M1308.5,-187C1308.5,-187 1156.5,-187 1156.5,-187 1150.5,-187 1144.5,-181 1144.5,-175 1144.5,-175 1144.5,-116 1144.5,-116 1144.5,-110 1150.5,-104 1156.5,-104 1156.5,-104 1308.5,-104 1308.5,-104 1314.5,-104 1320.5,-110 1320.5,-116 1320.5,-116 1320.5,-175 1320.5,-175 1320.5,-181 1314.5,-187 1308.5,-187\"/>\n<text text-anchor=\"middle\" x=\"1232.5\" y=\"-171.8\" font-family=\"Helvetica,sans-Serif\" font-size=\"14.00\" fill=\"#000000\">In App Purchased &lt;= 0.5</text>\n<text text-anchor=\"middle\" x=\"1232.5\" y=\"-156.8\" font-family=\"Helvetica,sans-Serif\" font-size=\"14.00\" fill=\"#000000\">gini = 1.0</text>\n<text text-anchor=\"middle\" x=\"1232.5\" y=\"-141.8\" font-family=\"Helvetica,sans-Serif\" font-size=\"14.00\" fill=\"#000000\">samples = 30952</text>\n<text text-anchor=\"middle\" x=\"1232.5\" y=\"-126.8\" font-family=\"Helvetica,sans-Serif\" font-size=\"14.00\" fill=\"#000000\">value = [0, 1, 0 ... 1, 1, 0]</text>\n<text text-anchor=\"middle\" x=\"1232.5\" y=\"-111.8\" font-family=\"Helvetica,sans-Serif\" font-size=\"14.00\" fill=\"#000000\">class = 681961526</text>\n</g>\n<!-- 8&#45;&gt;12 -->\n<g id=\"edge12\" class=\"edge\">\n<title>8&#45;&gt;12</title>\n<path fill=\"none\" stroke=\"#000000\" d=\"M984.2065,-233.6998C1030.2746,-217.3353 1087.0645,-197.1622 1134.7005,-180.2407\"/>\n<polygon fill=\"#000000\" stroke=\"#000000\" points=\"1136.1576,-183.4375 1144.4091,-176.792 1133.8144,-176.8413 1136.1576,-183.4375\"/>\n</g>\n<!-- 10 -->\n<g id=\"node11\" class=\"node\">\n<title>10</title>\n<path fill=\"#dae539\" stroke=\"#000000\" d=\"M925,-68C925,-68 776,-68 776,-68 770,-68 764,-62 764,-56 764,-56 764,-12 764,-12 764,-6 770,0 776,0 776,0 925,0 925,0 931,0 937,-6 937,-12 937,-12 937,-56 937,-56 937,-62 931,-68 925,-68\"/>\n<text text-anchor=\"middle\" x=\"850.5\" y=\"-52.8\" font-family=\"Helvetica,sans-Serif\" font-size=\"14.00\" fill=\"#000000\">gini = 0.0</text>\n<text text-anchor=\"middle\" x=\"850.5\" y=\"-37.8\" font-family=\"Helvetica,sans-Serif\" font-size=\"14.00\" fill=\"#000000\">samples = 1</text>\n<text text-anchor=\"middle\" x=\"850.5\" y=\"-22.8\" font-family=\"Helvetica,sans-Serif\" font-size=\"14.00\" fill=\"#000000\">value = [0, 0, 0 ... 0, 0, 0]</text>\n<text text-anchor=\"middle\" x=\"850.5\" y=\"-7.8\" font-family=\"Helvetica,sans-Serif\" font-size=\"14.00\" fill=\"#000000\">class = 3581605</text>\n</g>\n<!-- 9&#45;&gt;10 -->\n<g id=\"edge10\" class=\"edge\">\n<title>9&#45;&gt;10</title>\n<path fill=\"none\" stroke=\"#000000\" d=\"M879.9989,-103.9815C876.3573,-95.3423 872.5097,-86.2144 868.8388,-77.5059\"/>\n<polygon fill=\"#000000\" stroke=\"#000000\" points=\"872.0525,-76.119 864.943,-68.2637 865.6021,-78.838 872.0525,-76.119\"/>\n</g>\n<!-- 11 -->\n<g id=\"node12\" class=\"node\">\n<title>11</title>\n<path fill=\"#ffffff\" stroke=\"#000000\" d=\"M1116,-68C1116,-68 967,-68 967,-68 961,-68 955,-62 955,-56 955,-56 955,-12 955,-12 955,-6 961,0 967,0 967,0 1116,0 1116,0 1122,0 1128,-6 1128,-12 1128,-12 1128,-56 1128,-56 1128,-62 1122,-68 1116,-68\"/>\n<text text-anchor=\"middle\" x=\"1041.5\" y=\"-52.8\" font-family=\"Helvetica,sans-Serif\" font-size=\"14.00\" fill=\"#000000\">gini = 0.963</text>\n<text text-anchor=\"middle\" x=\"1041.5\" y=\"-37.8\" font-family=\"Helvetica,sans-Serif\" font-size=\"14.00\" fill=\"#000000\">samples = 27</text>\n<text text-anchor=\"middle\" x=\"1041.5\" y=\"-22.8\" font-family=\"Helvetica,sans-Serif\" font-size=\"14.00\" fill=\"#000000\">value = [0, 0, 0 ... 0, 0, 0]</text>\n<text text-anchor=\"middle\" x=\"1041.5\" y=\"-7.8\" font-family=\"Helvetica,sans-Serif\" font-size=\"14.00\" fill=\"#000000\">class = 11353201</text>\n</g>\n<!-- 9&#45;&gt;11 -->\n<g id=\"edge11\" class=\"edge\">\n<title>9&#45;&gt;11</title>\n<path fill=\"none\" stroke=\"#000000\" d=\"M951.1203,-103.9815C963.5833,-94.3313 976.8338,-84.0714 989.2373,-74.4673\"/>\n<polygon fill=\"#000000\" stroke=\"#000000\" points=\"991.4851,-77.1534 997.2492,-68.2637 987.1995,-71.6186 991.4851,-77.1534\"/>\n</g>\n<!-- 13 -->\n<g id=\"node14\" class=\"node\">\n<title>13</title>\n<path fill=\"#ffffff\" stroke=\"#000000\" d=\"M1307,-68C1307,-68 1158,-68 1158,-68 1152,-68 1146,-62 1146,-56 1146,-56 1146,-12 1146,-12 1146,-6 1152,0 1158,0 1158,0 1307,0 1307,0 1313,0 1319,-6 1319,-12 1319,-12 1319,-56 1319,-56 1319,-62 1313,-68 1307,-68\"/>\n<text text-anchor=\"middle\" x=\"1232.5\" y=\"-52.8\" font-family=\"Helvetica,sans-Serif\" font-size=\"14.00\" fill=\"#000000\">gini = 1.0</text>\n<text text-anchor=\"middle\" x=\"1232.5\" y=\"-37.8\" font-family=\"Helvetica,sans-Serif\" font-size=\"14.00\" fill=\"#000000\">samples = 14777</text>\n<text text-anchor=\"middle\" x=\"1232.5\" y=\"-22.8\" font-family=\"Helvetica,sans-Serif\" font-size=\"14.00\" fill=\"#000000\">value = [0, 0, 0 ... 1, 1, 0]</text>\n<text text-anchor=\"middle\" x=\"1232.5\" y=\"-7.8\" font-family=\"Helvetica,sans-Serif\" font-size=\"14.00\" fill=\"#000000\">class = 681961526</text>\n</g>\n<!-- 12&#45;&gt;13 -->\n<g id=\"edge13\" class=\"edge\">\n<title>12&#45;&gt;13</title>\n<path fill=\"none\" stroke=\"#000000\" d=\"M1232.5,-103.9815C1232.5,-95.618 1232.5,-86.7965 1232.5,-78.3409\"/>\n<polygon fill=\"#000000\" stroke=\"#000000\" points=\"1236.0001,-78.2636 1232.5,-68.2637 1229.0001,-78.2637 1236.0001,-78.2636\"/>\n</g>\n<!-- 14 -->\n<g id=\"node15\" class=\"node\">\n<title>14</title>\n<path fill=\"#ffffff\" stroke=\"#000000\" d=\"M1498,-68C1498,-68 1349,-68 1349,-68 1343,-68 1337,-62 1337,-56 1337,-56 1337,-12 1337,-12 1337,-6 1343,0 1349,0 1349,0 1498,0 1498,0 1504,0 1510,-6 1510,-12 1510,-12 1510,-56 1510,-56 1510,-62 1504,-68 1498,-68\"/>\n<text text-anchor=\"middle\" x=\"1423.5\" y=\"-52.8\" font-family=\"Helvetica,sans-Serif\" font-size=\"14.00\" fill=\"#000000\">gini = 1.0</text>\n<text text-anchor=\"middle\" x=\"1423.5\" y=\"-37.8\" font-family=\"Helvetica,sans-Serif\" font-size=\"14.00\" fill=\"#000000\">samples = 16175</text>\n<text text-anchor=\"middle\" x=\"1423.5\" y=\"-22.8\" font-family=\"Helvetica,sans-Serif\" font-size=\"14.00\" fill=\"#000000\">value = [0, 1, 0 ... 0, 0, 0]</text>\n<text text-anchor=\"middle\" x=\"1423.5\" y=\"-7.8\" font-family=\"Helvetica,sans-Serif\" font-size=\"14.00\" fill=\"#000000\">class = 524216973</text>\n</g>\n<!-- 12&#45;&gt;14 -->\n<g id=\"edge14\" class=\"edge\">\n<title>12&#45;&gt;14</title>\n<path fill=\"none\" stroke=\"#000000\" d=\"M1303.6214,-103.9815C1320.8723,-93.911 1339.2605,-83.1764 1356.3227,-73.2161\"/>\n<polygon fill=\"#000000\" stroke=\"#000000\" points=\"1358.2396,-76.1499 1365.1112,-68.0856 1354.7105,-70.1045 1358.2396,-76.1499\"/>\n</g>\n</g>\n</svg>\n"
          },
          "metadata": {
            "tags": []
          },
          "execution_count": 46
        }
      ]
    },
    {
      "cell_type": "code",
      "metadata": {
        "colab": {
          "base_uri": "https://localhost:8080/"
        },
        "id": "4SB9yPzTNaDb",
        "outputId": "7cdfe65f-1322-4899-e03a-582b7f2c022f"
      },
      "source": [
        "# Modeling 3\n",
        "from sklearn.svm import SVC\n",
        "BI['Rating']=BI['Rating'].fillna(0)\n",
        "mask = BI['Maximum Installs'] > 50000000\n",
        "BI_dt = BI[mask]\n",
        "print('篩選前為%s筆, 篩選後為%s筆, 共篩選掉%s' % (BI.shape, BI_dt.shape, BI.shape[0]-BI_dt.shape[0]))\n",
        "from sklearn.preprocessing import LabelEncoder\n",
        "labelencoder = LabelEncoder()\n",
        "gx = BI_dt.iloc[:, [2,3,8]]\n",
        "print(gx)\n",
        "gx['Category'] = labelencoder.fit_transform(gx['Category'])\n",
        "print(gx)\n",
        "X = gx\n",
        "y = BI_dt['Maximum Installs']\n",
        "model = SVC(kernel='linear', C=1E10)\n",
        "model.fit(X, y)\n",
        "print(model.score(X, y))"
      ],
      "execution_count": null,
      "outputs": [
        {
          "output_type": "stream",
          "text": [
            "篩選前為(1118136, 23)筆, 篩選後為(1233, 23)筆, 共篩選掉1116903\n",
            "                  Category  Rating  Free\n",
            "2                    Tools     4.2  True\n",
            "3                 Business     4.2  True\n",
            "13            Productivity     4.2  True\n",
            "14       Maps & Navigation     4.4  True\n",
            "16           Communication     4.4  True\n",
            "...                    ...     ...   ...\n",
            "759329              Action     4.3  True\n",
            "799662              Racing     4.0  True\n",
            "813435               Tools     2.8  True\n",
            "918186              Social     4.3  True\n",
            "1055204      Entertainment     3.5  True\n",
            "\n",
            "[1233 rows x 3 columns]\n",
            "         Category  Rating  Free\n",
            "2              38     4.2  True\n",
            "3               8     4.2  True\n",
            "13             29     4.2  True\n",
            "14             23     4.4  True\n",
            "16             13     4.4  True\n",
            "...           ...     ...   ...\n",
            "759329          0     4.3  True\n",
            "799662         31     4.0  True\n",
            "813435         38     2.8  True\n",
            "918186         35     4.3  True\n",
            "1055204        16     3.5  True\n",
            "\n",
            "[1233 rows x 3 columns]\n"
          ],
          "name": "stdout"
        },
        {
          "output_type": "stream",
          "text": [
            "/usr/local/lib/python3.7/dist-packages/ipykernel_launcher.py:11: SettingWithCopyWarning: \n",
            "A value is trying to be set on a copy of a slice from a DataFrame.\n",
            "Try using .loc[row_indexer,col_indexer] = value instead\n",
            "\n",
            "See the caveats in the documentation: https://pandas.pydata.org/pandas-docs/stable/user_guide/indexing.html#returning-a-view-versus-a-copy\n",
            "  # This is added back by InteractiveShellApp.init_path()\n"
          ],
          "name": "stderr"
        },
        {
          "output_type": "stream",
          "text": [
            "0.26682887266828875\n"
          ],
          "name": "stdout"
        }
      ]
    },
    {
      "cell_type": "code",
      "metadata": {
        "colab": {
          "base_uri": "https://localhost:8080/"
        },
        "id": "Wmck7S1WdeWF",
        "outputId": "fc8d9d61-ed34-4612-ee67-c439b9dc4890"
      },
      "source": [
        "# Modeling 3 TEST 2 \n",
        "from sklearn.svm import SVC\n",
        "BI['Rating']=BI['Rating'].fillna(0)\n",
        "mask = BI['Maximum Installs'] > 100000000\n",
        "BI_dt = BI[mask]\n",
        "print('篩選前為%s筆, 篩選後為%s筆, 共篩選掉%s' % (BI.shape, BI_dt.shape, BI.shape[0]-BI_dt.shape[0]))\n",
        "from sklearn.preprocessing import LabelEncoder\n",
        "labelencoder = LabelEncoder()\n",
        "gx = BI_dt.iloc[:, [2,3,8]]\n",
        "print(gx)\n",
        "gx['Category'] = labelencoder.fit_transform(gx['Category'])\n",
        "print(gx)\n",
        "X = gx\n",
        "y = BI_dt['Maximum Installs']\n",
        "model = SVC(kernel='linear', C=1E10)\n",
        "model.fit(X, y)\n",
        "print(model.score(X, y))"
      ],
      "execution_count": null,
      "outputs": [
        {
          "output_type": "stream",
          "text": [
            "篩選前為(1118136, 23)筆, 篩選後為(538, 23)筆, 共篩選掉1117598\n",
            "                  Category  Rating  Free\n",
            "3                 Business     4.2  True\n",
            "13            Productivity     4.2  True\n",
            "14       Maps & Navigation     4.4  True\n",
            "16           Communication     4.4  True\n",
            "17             Photography     4.5  True\n",
            "...                    ...     ...   ...\n",
            "423721               Tools     4.3  True\n",
            "500377       Music & Audio     4.2  True\n",
            "500990               Tools     4.3  True\n",
            "610484            Shopping     4.2  True\n",
            "1055204      Entertainment     3.5  True\n",
            "\n",
            "[538 rows x 3 columns]\n",
            "         Category  Rating  Free\n",
            "3               7     4.2  True\n",
            "13             24     4.2  True\n",
            "14             18     4.4  True\n",
            "16             10     4.4  True\n",
            "17             23     4.5  True\n",
            "...           ...     ...   ...\n",
            "423721         33     4.3  True\n",
            "500377         20     4.2  True\n",
            "500990         33     4.3  True\n",
            "610484         28     4.2  True\n",
            "1055204        13     3.5  True\n",
            "\n",
            "[538 rows x 3 columns]\n"
          ],
          "name": "stdout"
        },
        {
          "output_type": "stream",
          "text": [
            "/usr/local/lib/python3.7/dist-packages/ipykernel_launcher.py:11: SettingWithCopyWarning: \n",
            "A value is trying to be set on a copy of a slice from a DataFrame.\n",
            "Try using .loc[row_indexer,col_indexer] = value instead\n",
            "\n",
            "See the caveats in the documentation: https://pandas.pydata.org/pandas-docs/stable/user_guide/indexing.html#returning-a-view-versus-a-copy\n",
            "  # This is added back by InteractiveShellApp.init_path()\n"
          ],
          "name": "stderr"
        },
        {
          "output_type": "stream",
          "text": [
            "0.379182156133829\n"
          ],
          "name": "stdout"
        }
      ]
    },
    {
      "cell_type": "code",
      "metadata": {
        "colab": {
          "base_uri": "https://localhost:8080/"
        },
        "id": "uDESLU6CfhSq",
        "outputId": "ff90bb09-728f-49c9-d9db-9a2c428ebd7c"
      },
      "source": [
        "# Modeling 3 TEST 3 \n",
        "from sklearn.svm import SVC\n",
        "BI['Rating']=BI['Rating'].fillna(0)\n",
        "mask = BI['Maximum Installs'] > 100000000\n",
        "BI_dt = BI[mask]\n",
        "print('篩選前為%s筆, 篩選後為%s筆, 共篩選掉%s' % (BI.shape, BI_dt.shape, BI.shape[0]-BI_dt.shape[0]))\n",
        "from sklearn.preprocessing import LabelEncoder\n",
        "labelencoder = LabelEncoder()\n",
        "gx = BI_dt.iloc[:, [2,3]]\n",
        "print(gx)\n",
        "gx['Category'] = labelencoder.fit_transform(gx['Category'])\n",
        "print(gx)\n",
        "X = gx\n",
        "y = BI_dt['Maximum Installs']\n",
        "model = SVC(kernel='linear', C=1E10)\n",
        "model.fit(X, y)\n",
        "print(model.score(X, y))\n",
        "gx = BI_dt.iloc[:, [2,8]]\n",
        "print(gx)\n",
        "gx['Category'] = labelencoder.fit_transform(gx['Category'])\n",
        "print(gx)\n",
        "X = gx\n",
        "y = BI_dt['Maximum Installs']\n",
        "model = SVC(kernel='linear', C=1E10)\n",
        "model.fit(X, y)\n",
        "print(model.score(X, y))"
      ],
      "execution_count": null,
      "outputs": [
        {
          "output_type": "stream",
          "text": [
            "篩選前為(1118136, 23)筆, 篩選後為(538, 23)筆, 共篩選掉1117598\n",
            "                  Category  Rating\n",
            "3                 Business     4.2\n",
            "13            Productivity     4.2\n",
            "14       Maps & Navigation     4.4\n",
            "16           Communication     4.4\n",
            "17             Photography     4.5\n",
            "...                    ...     ...\n",
            "423721               Tools     4.3\n",
            "500377       Music & Audio     4.2\n",
            "500990               Tools     4.3\n",
            "610484            Shopping     4.2\n",
            "1055204      Entertainment     3.5\n",
            "\n",
            "[538 rows x 2 columns]\n",
            "         Category  Rating\n",
            "3               7     4.2\n",
            "13             24     4.2\n",
            "14             18     4.4\n",
            "16             10     4.4\n",
            "17             23     4.5\n",
            "...           ...     ...\n",
            "423721         33     4.3\n",
            "500377         20     4.2\n",
            "500990         33     4.3\n",
            "610484         28     4.2\n",
            "1055204        13     3.5\n",
            "\n",
            "[538 rows x 2 columns]\n"
          ],
          "name": "stdout"
        },
        {
          "output_type": "stream",
          "text": [
            "/usr/local/lib/python3.7/dist-packages/ipykernel_launcher.py:11: SettingWithCopyWarning: \n",
            "A value is trying to be set on a copy of a slice from a DataFrame.\n",
            "Try using .loc[row_indexer,col_indexer] = value instead\n",
            "\n",
            "See the caveats in the documentation: https://pandas.pydata.org/pandas-docs/stable/user_guide/indexing.html#returning-a-view-versus-a-copy\n",
            "  # This is added back by InteractiveShellApp.init_path()\n"
          ],
          "name": "stderr"
        },
        {
          "output_type": "stream",
          "text": [
            "0.379182156133829\n",
            "                  Category  Free\n",
            "3                 Business  True\n",
            "13            Productivity  True\n",
            "14       Maps & Navigation  True\n",
            "16           Communication  True\n",
            "17             Photography  True\n",
            "...                    ...   ...\n",
            "423721               Tools  True\n",
            "500377       Music & Audio  True\n",
            "500990               Tools  True\n",
            "610484            Shopping  True\n",
            "1055204      Entertainment  True\n",
            "\n",
            "[538 rows x 2 columns]\n",
            "         Category  Free\n",
            "3               7  True\n",
            "13             24  True\n",
            "14             18  True\n",
            "16             10  True\n",
            "17             23  True\n",
            "...           ...   ...\n",
            "423721         33  True\n",
            "500377         20  True\n",
            "500990         33  True\n",
            "610484         28  True\n",
            "1055204        13  True\n",
            "\n",
            "[538 rows x 2 columns]\n"
          ],
          "name": "stdout"
        },
        {
          "output_type": "stream",
          "text": [
            "/usr/local/lib/python3.7/dist-packages/ipykernel_launcher.py:20: SettingWithCopyWarning: \n",
            "A value is trying to be set on a copy of a slice from a DataFrame.\n",
            "Try using .loc[row_indexer,col_indexer] = value instead\n",
            "\n",
            "See the caveats in the documentation: https://pandas.pydata.org/pandas-docs/stable/user_guide/indexing.html#returning-a-view-versus-a-copy\n"
          ],
          "name": "stderr"
        },
        {
          "output_type": "stream",
          "text": [
            "0.07063197026022305\n"
          ],
          "name": "stdout"
        }
      ]
    },
    {
      "cell_type": "code",
      "metadata": {
        "colab": {
          "base_uri": "https://localhost:8080/"
        },
        "id": "Z9Uu6jttjcQR",
        "outputId": "cc0fe866-6e24-4a4e-fe3f-9f0f9ccf7008"
      },
      "source": [
        "# Modeling 3 TEST 4 \n",
        "from sklearn.svm import SVC\n",
        "BI['Rating']=BI['Rating'].fillna(0)\n",
        "mask = BI['Maximum Installs'] > 100000000\n",
        "BI_dt = BI[mask]\n",
        "print('篩選前為%s筆, 篩選後為%s筆, 共篩選掉%s' % (BI.shape, BI_dt.shape, BI.shape[0]-BI_dt.shape[0]))\n",
        "from sklearn.preprocessing import LabelEncoder\n",
        "labelencoder = LabelEncoder()\n",
        "gx = BI_dt.iloc[:, [2,3,8,20]]\n",
        "print(gx)\n",
        "gx['Category'] = labelencoder.fit_transform(gx['Category'])\n",
        "print(gx)\n",
        "X = gx\n",
        "y = BI_dt['Maximum Installs']\n",
        "model = SVC(kernel='linear', C=1E10)\n",
        "model.fit(X, y)\n",
        "print(model.score(X, y))"
      ],
      "execution_count": null,
      "outputs": [
        {
          "output_type": "stream",
          "text": [
            "篩選前為(1118136, 23)筆, 篩選後為(538, 23)筆, 共篩選掉1117598\n",
            "                  Category  Rating  Free  Ad Supported\n",
            "3                 Business     4.2  True          True\n",
            "13            Productivity     4.2  True         False\n",
            "14       Maps & Navigation     4.4  True         False\n",
            "16           Communication     4.4  True          True\n",
            "17             Photography     4.5  True         False\n",
            "...                    ...     ...   ...           ...\n",
            "423721               Tools     4.3  True         False\n",
            "500377       Music & Audio     4.2  True          True\n",
            "500990               Tools     4.3  True         False\n",
            "610484            Shopping     4.2  True          True\n",
            "1055204      Entertainment     3.5  True          True\n",
            "\n",
            "[538 rows x 4 columns]\n",
            "         Category  Rating  Free  Ad Supported\n",
            "3               7     4.2  True          True\n",
            "13             24     4.2  True         False\n",
            "14             18     4.4  True         False\n",
            "16             10     4.4  True          True\n",
            "17             23     4.5  True         False\n",
            "...           ...     ...   ...           ...\n",
            "423721         33     4.3  True         False\n",
            "500377         20     4.2  True          True\n",
            "500990         33     4.3  True         False\n",
            "610484         28     4.2  True          True\n",
            "1055204        13     3.5  True          True\n",
            "\n",
            "[538 rows x 4 columns]\n"
          ],
          "name": "stdout"
        },
        {
          "output_type": "stream",
          "text": [
            "/usr/local/lib/python3.7/dist-packages/ipykernel_launcher.py:11: SettingWithCopyWarning: \n",
            "A value is trying to be set on a copy of a slice from a DataFrame.\n",
            "Try using .loc[row_indexer,col_indexer] = value instead\n",
            "\n",
            "See the caveats in the documentation: https://pandas.pydata.org/pandas-docs/stable/user_guide/indexing.html#returning-a-view-versus-a-copy\n",
            "  # This is added back by InteractiveShellApp.init_path()\n"
          ],
          "name": "stderr"
        },
        {
          "output_type": "stream",
          "text": [
            "0.4721189591078067\n"
          ],
          "name": "stdout"
        }
      ]
    },
    {
      "cell_type": "code",
      "metadata": {
        "colab": {
          "base_uri": "https://localhost:8080/"
        },
        "id": "GMfYJ0RejqKc",
        "outputId": "ea5fdb40-2c67-4390-8c7d-e037e7009954"
      },
      "source": [
        "# Modeling 3 TEST 5 \n",
        "from sklearn.svm import SVC\n",
        "BI['Rating']=BI['Rating'].fillna(0)\n",
        "mask = BI['Maximum Installs'] > 100000000\n",
        "BI_dt = BI[mask]\n",
        "print('篩選前為%s筆, 篩選後為%s筆, 共篩選掉%s' % (BI.shape, BI_dt.shape, BI.shape[0]-BI_dt.shape[0]))\n",
        "from sklearn.preprocessing import LabelEncoder\n",
        "labelencoder = LabelEncoder()\n",
        "gx = BI_dt.iloc[:, [2,3,8,20,21]]\n",
        "print(gx)\n",
        "gx['Category'] = labelencoder.fit_transform(gx['Category'])\n",
        "print(gx)\n",
        "X = gx\n",
        "y = BI_dt['Maximum Installs']\n",
        "model = SVC(kernel='linear', C=1E10)\n",
        "model.fit(X, y)\n",
        "print(model.score(X, y))"
      ],
      "execution_count": null,
      "outputs": [
        {
          "output_type": "stream",
          "text": [
            "篩選前為(1118136, 23)筆, 篩選後為(538, 23)筆, 共篩選掉1117598\n",
            "                  Category  Rating  Free  Ad Supported  In App Purchases\n",
            "3                 Business     4.2  True          True              True\n",
            "13            Productivity     4.2  True         False             False\n",
            "14       Maps & Navigation     4.4  True         False             False\n",
            "16           Communication     4.4  True          True              True\n",
            "17             Photography     4.5  True         False             False\n",
            "...                    ...     ...   ...           ...               ...\n",
            "423721               Tools     4.3  True         False             False\n",
            "500377       Music & Audio     4.2  True          True             False\n",
            "500990               Tools     4.3  True         False             False\n",
            "610484            Shopping     4.2  True          True             False\n",
            "1055204      Entertainment     3.5  True          True             False\n",
            "\n",
            "[538 rows x 5 columns]\n",
            "         Category  Rating  Free  Ad Supported  In App Purchases\n",
            "3               7     4.2  True          True              True\n",
            "13             24     4.2  True         False             False\n",
            "14             18     4.4  True         False             False\n",
            "16             10     4.4  True          True              True\n",
            "17             23     4.5  True         False             False\n",
            "...           ...     ...   ...           ...               ...\n",
            "423721         33     4.3  True         False             False\n",
            "500377         20     4.2  True          True             False\n",
            "500990         33     4.3  True         False             False\n",
            "610484         28     4.2  True          True             False\n",
            "1055204        13     3.5  True          True             False\n",
            "\n",
            "[538 rows x 5 columns]\n"
          ],
          "name": "stdout"
        },
        {
          "output_type": "stream",
          "text": [
            "/usr/local/lib/python3.7/dist-packages/ipykernel_launcher.py:11: SettingWithCopyWarning: \n",
            "A value is trying to be set on a copy of a slice from a DataFrame.\n",
            "Try using .loc[row_indexer,col_indexer] = value instead\n",
            "\n",
            "See the caveats in the documentation: https://pandas.pydata.org/pandas-docs/stable/user_guide/indexing.html#returning-a-view-versus-a-copy\n",
            "  # This is added back by InteractiveShellApp.init_path()\n"
          ],
          "name": "stderr"
        },
        {
          "output_type": "stream",
          "text": [
            "0.5650557620817844\n"
          ],
          "name": "stdout"
        }
      ]
    }
  ]
}